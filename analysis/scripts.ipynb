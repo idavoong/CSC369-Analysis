{
 "cells": [
  {
   "cell_type": "code",
   "execution_count": 1,
   "metadata": {},
   "outputs": [],
   "source": [
    "import duckdb\n",
    "import matplotlib.pyplot as plt\n",
    "\n",
    "# laptop\n",
    "file_path = \"C:/Users/idavo/.cache/kagglehub/datasets/jeffsinsel/nyc-fhvhv-data/versions/4\""
   ]
  },
  {
   "cell_type": "code",
   "execution_count": 2,
   "metadata": {},
   "outputs": [
    {
     "name": "stdout",
     "output_type": "stream",
     "text": [
      "┌─────────────────────┬────────────┬─────────────────────┬────────────────────┐\n",
      "│   pickup_datetime   │ trip_miles │ base_passenger_fare │   fare_per_mile    │\n",
      "│      timestamp      │   double   │       double        │       double       │\n",
      "├─────────────────────┼────────────┼─────────────────────┼────────────────────┤\n",
      "│ 2019-02-01 00:05:18 │       2.45 │                9.35 │ 3.8163265306122445 │\n",
      "│ 2019-02-01 00:41:29 │       1.71 │                7.91 │  4.625730994152047 │\n",
      "│ 2019-02-01 00:51:34 │       5.01 │               44.96 │  8.974051896207586 │\n",
      "│ 2019-02-01 00:03:51 │       0.34 │                7.19 │ 21.147058823529413 │\n",
      "│ 2019-02-01 00:09:44 │       6.84 │               24.25 │ 3.5453216374269005 │\n",
      "│ 2019-02-01 00:59:55 │       1.11 │                5.75 │   5.18018018018018 │\n",
      "│ 2019-02-01 00:12:06 │       4.53 │               16.39 │  3.618101545253863 │\n",
      "│ 2019-02-01 00:45:35 │      11.24 │               29.77 │  2.648576512455516 │\n",
      "│ 2019-02-01 00:10:48 │       1.59 │                6.99 │   4.39622641509434 │\n",
      "│ 2019-02-01 00:32:32 │        1.9 │                7.05 │  3.710526315789474 │\n",
      "│          ·          │         ·  │                  ·  │          ·         │\n",
      "│          ·          │         ·  │                  ·  │          ·         │\n",
      "│          ·          │         ·  │                  ·  │          ·         │\n",
      "│ 2019-02-01 00:04:27 │       8.67 │               11.29 │ 1.3021914648212225 │\n",
      "│ 2019-02-01 00:49:47 │       1.35 │                4.04 │ 2.9925925925925925 │\n",
      "│ 2019-02-01 00:16:20 │       6.02 │               12.55 │  2.084717607973422 │\n",
      "│ 2019-02-01 00:16:20 │       8.81 │               12.33 │ 1.3995459704880817 │\n",
      "│ 2019-02-01 00:19:53 │       4.27 │                 9.0 │  2.107728337236534 │\n",
      "│ 2019-02-01 00:33:19 │       5.23 │                3.92 │ 0.7495219885277246 │\n",
      "│ 2019-02-01 00:12:15 │      25.14 │               56.58 │  2.250596658711217 │\n",
      "│ 2019-02-01 00:11:26 │        1.4 │                4.96 │  3.542857142857143 │\n",
      "│ 2019-02-01 00:30:41 │        1.7 │                7.44 │  4.376470588235295 │\n",
      "│ 2019-02-01 00:43:39 │       1.15 │                7.19 │  6.252173913043479 │\n",
      "├─────────────────────┴────────────┴─────────────────────┴────────────────────┤\n",
      "│ ? rows (>9999 rows, 20 shown)                                     4 columns │\n",
      "└─────────────────────────────────────────────────────────────────────────────┘\n",
      "\n"
     ]
    }
   ],
   "source": [
    "times = duckdb.sql(f\"\"\"\n",
    "    SELECT pickup_datetime, trip_miles, base_passenger_fare, base_passenger_fare / NULLIF(trip_miles, 0) AS fare_per_mile\n",
    "    FROM \"nyc_data.parquet\"\n",
    "\"\"\")\n",
    "\n",
    "print(times)"
   ]
  },
  {
   "cell_type": "code",
   "execution_count": 4,
   "metadata": {},
   "outputs": [
    {
     "name": "stdout",
     "output_type": "stream",
     "text": [
      "┌─────────┬─────────────┐\n",
      "│  hour   │ median_fare │\n",
      "│ varchar │   double    │\n",
      "├─────────┼─────────────┤\n",
      "│ 00      │        15.1 │\n",
      "│ 01      │       14.56 │\n",
      "│ 02      │       14.75 │\n",
      "│ 03      │       15.45 │\n",
      "│ 04      │       17.79 │\n",
      "│ 05      │       17.82 │\n",
      "│ 06      │        16.8 │\n",
      "│ 07      │       15.39 │\n",
      "│ 08      │        14.7 │\n",
      "│ 09      │       14.11 │\n",
      "│ ·       │         ·   │\n",
      "│ ·       │         ·   │\n",
      "│ ·       │         ·   │\n",
      "│ 14      │       15.16 │\n",
      "│ 15      │       15.29 │\n",
      "│ 16      │       15.15 │\n",
      "│ 17      │       15.17 │\n",
      "│ 18      │       14.93 │\n",
      "│ 19      │       14.21 │\n",
      "│ 20      │       14.08 │\n",
      "│ 21      │        14.4 │\n",
      "│ 22      │       15.33 │\n",
      "│ 23      │       15.66 │\n",
      "├─────────┴─────────────┤\n",
      "│  24 rows (20 shown)   │\n",
      "└───────────────────────┘\n",
      "\n"
     ]
    }
   ],
   "source": [
    "percentiles = duckdb.sql(f\"\"\"\n",
    "    SELECT \n",
    "        strftime(pickup_datetime, '%H') AS hour,  -- Extract the hour (00–23)\n",
    "        quantile(base_passenger_fare, 0.5) AS median_fare  -- Compute 50th percentile (median)\n",
    "    FROM \"nyc_data.parquet\"\n",
    "    GROUP BY hour\n",
    "    ORDER BY hour\n",
    "\"\"\")\n",
    "\n",
    "print(percentiles)"
   ]
  }
 ],
 "metadata": {
  "kernelspec": {
   "display_name": "Python 3",
   "language": "python",
   "name": "python3"
  },
  "language_info": {
   "codemirror_mode": {
    "name": "ipython",
    "version": 3
   },
   "file_extension": ".py",
   "mimetype": "text/x-python",
   "name": "python",
   "nbconvert_exporter": "python",
   "pygments_lexer": "ipython3",
   "version": "3.10.11"
  }
 },
 "nbformat": 4,
 "nbformat_minor": 2
}
