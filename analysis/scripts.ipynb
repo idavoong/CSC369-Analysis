{
 "cells": [
  {
   "cell_type": "code",
   "execution_count": 23,
   "metadata": {},
   "outputs": [],
   "source": [
    "import duckdb\n",
    "import matplotlib.pyplot as plt\n",
    "\n",
    "# laptop\n",
    "file_path = \"C:/Users/idavo/.cache/kagglehub/datasets/jeffsinsel/nyc-fhvhv-data/versions/4\""
   ]
  },
  {
   "cell_type": "code",
   "execution_count": 24,
   "metadata": {},
   "outputs": [
    {
     "name": "stdout",
     "output_type": "stream",
     "text": [
      "┌─────────────────────┬────────────┬─────────────────────┬────────────────────┐\n",
      "│   pickup_datetime   │ trip_miles │ base_passenger_fare │   fare_per_mile    │\n",
      "│      timestamp      │   double   │       double        │       double       │\n",
      "├─────────────────────┼────────────┼─────────────────────┼────────────────────┤\n",
      "│ 2019-02-01 00:05:18 │       2.45 │                9.35 │ 3.8163265306122445 │\n",
      "│ 2019-02-01 00:41:29 │       1.71 │                7.91 │  4.625730994152047 │\n",
      "│ 2019-02-01 00:51:34 │       5.01 │               44.96 │  8.974051896207586 │\n",
      "│ 2019-02-01 00:03:51 │       0.34 │                7.19 │ 21.147058823529413 │\n",
      "│ 2019-02-01 00:09:44 │       6.84 │               24.25 │ 3.5453216374269005 │\n",
      "│ 2019-02-01 00:59:55 │       1.11 │                5.75 │   5.18018018018018 │\n",
      "│ 2019-02-01 00:12:06 │       4.53 │               16.39 │  3.618101545253863 │\n",
      "│ 2019-02-01 00:45:35 │      11.24 │               29.77 │  2.648576512455516 │\n",
      "│ 2019-02-01 00:10:48 │       1.59 │                6.99 │   4.39622641509434 │\n",
      "│ 2019-02-01 00:32:32 │        1.9 │                7.05 │  3.710526315789474 │\n",
      "│          ·          │         ·  │                  ·  │          ·         │\n",
      "│          ·          │         ·  │                  ·  │          ·         │\n",
      "│          ·          │         ·  │                  ·  │          ·         │\n",
      "│ 2019-02-01 00:04:27 │       8.67 │               11.29 │ 1.3021914648212225 │\n",
      "│ 2019-02-01 00:49:47 │       1.35 │                4.04 │ 2.9925925925925925 │\n",
      "│ 2019-02-01 00:16:20 │       6.02 │               12.55 │  2.084717607973422 │\n",
      "│ 2019-02-01 00:16:20 │       8.81 │               12.33 │ 1.3995459704880817 │\n",
      "│ 2019-02-01 00:19:53 │       4.27 │                 9.0 │  2.107728337236534 │\n",
      "│ 2019-02-01 00:33:19 │       5.23 │                3.92 │ 0.7495219885277246 │\n",
      "│ 2019-02-01 00:12:15 │      25.14 │               56.58 │  2.250596658711217 │\n",
      "│ 2019-02-01 00:11:26 │        1.4 │                4.96 │  3.542857142857143 │\n",
      "│ 2019-02-01 00:30:41 │        1.7 │                7.44 │  4.376470588235295 │\n",
      "│ 2019-02-01 00:43:39 │       1.15 │                7.19 │  6.252173913043479 │\n",
      "├─────────────────────┴────────────┴─────────────────────┴────────────────────┤\n",
      "│ ? rows (>9999 rows, 20 shown)                                     4 columns │\n",
      "└─────────────────────────────────────────────────────────────────────────────┘\n",
      "\n"
     ]
    }
   ],
   "source": [
    "times = duckdb.sql(f\"\"\"\n",
    "    SELECT pickup_datetime, trip_miles, base_passenger_fare, base_passenger_fare / NULLIF(trip_miles, 0) AS fare_per_mile\n",
    "    FROM \"nyc_data.parquet\"\n",
    "\"\"\")\n",
    "\n",
    "print(times)"
   ]
  },
  {
   "cell_type": "code",
   "execution_count": 25,
   "metadata": {},
   "outputs": [
    {
     "name": "stdout",
     "output_type": "stream",
     "text": [
      "┌─────────┬────────────────────┐\n",
      "│  hour   │      avg_fare      │\n",
      "│ varchar │       double       │\n",
      "├─────────┼────────────────────┤\n",
      "│ 00      │ 19.795737178510922 │\n",
      "│ 01      │ 18.940912403973062 │\n",
      "│ 02      │  19.11352625596347 │\n",
      "│ 03      │ 20.095692986371688 │\n",
      "│ 04      │ 22.801787996747954 │\n",
      "│ 05      │ 23.108677421486007 │\n",
      "│ 06      │  22.15246218852899 │\n",
      "│ 07      │ 20.686920767020794 │\n",
      "│ 08      │ 19.767285765739583 │\n",
      "│ 09      │ 18.807021445157886 │\n",
      "│ ·       │          ·         │\n",
      "│ ·       │          ·         │\n",
      "│ ·       │          ·         │\n",
      "│ 14      │ 20.898910517280555 │\n",
      "│ 15      │ 21.356091201513923 │\n",
      "│ 16      │  21.08049748857187 │\n",
      "│ 17      │ 20.577135483314567 │\n",
      "│ 18      │ 19.719890660653046 │\n",
      "│ 19      │ 18.664249936627662 │\n",
      "│ 20      │  18.74423354699954 │\n",
      "│ 21      │  19.39092189128948 │\n",
      "│ 22      │ 20.417459945828455 │\n",
      "│ 23      │ 20.632450623656343 │\n",
      "├─────────┴────────────────────┤\n",
      "│      24 rows (20 shown)      │\n",
      "└──────────────────────────────┘\n",
      "\n"
     ]
    }
   ],
   "source": [
    "average = duckdb.sql(f\"\"\"\n",
    "    SELECT \n",
    "        strftime(pickup_datetime, '%H') AS hour,\n",
    "        AVG(base_passenger_fare) AS avg_fare\n",
    "    FROM \"nyc_data.parquet\"\n",
    "    GROUP BY hour\n",
    "    ORDER BY hour\n",
    "\"\"\")\n",
    "\n",
    "print(average)"
   ]
  },
  {
   "cell_type": "code",
   "execution_count": 26,
   "metadata": {},
   "outputs": [
    {
     "name": "stdout",
     "output_type": "stream",
     "text": [
      "┌─────────┬─────────────┐\n",
      "│  hour   │ median_fare │\n",
      "│ varchar │   double    │\n",
      "├─────────┼─────────────┤\n",
      "│ 00      │        15.1 │\n",
      "│ 01      │       14.56 │\n",
      "│ 02      │       14.75 │\n",
      "│ 03      │       15.45 │\n",
      "│ 04      │       17.79 │\n",
      "│ 05      │       17.82 │\n",
      "│ 06      │        16.8 │\n",
      "│ 07      │       15.39 │\n",
      "│ 08      │        14.7 │\n",
      "│ 09      │       14.11 │\n",
      "│ ·       │         ·   │\n",
      "│ ·       │         ·   │\n",
      "│ ·       │         ·   │\n",
      "│ 14      │       15.16 │\n",
      "│ 15      │       15.29 │\n",
      "│ 16      │       15.15 │\n",
      "│ 17      │       15.17 │\n",
      "│ 18      │       14.93 │\n",
      "│ 19      │       14.21 │\n",
      "│ 20      │       14.08 │\n",
      "│ 21      │        14.4 │\n",
      "│ 22      │       15.33 │\n",
      "│ 23      │       15.66 │\n",
      "├─────────┴─────────────┤\n",
      "│  24 rows (20 shown)   │\n",
      "└───────────────────────┘\n",
      "\n"
     ]
    }
   ],
   "source": [
    "percentiles_50 = duckdb.sql(f\"\"\"\n",
    "    SELECT \n",
    "        strftime(pickup_datetime, '%H') AS hour,\n",
    "        quantile(base_passenger_fare, 0.5) AS median_fare\n",
    "    FROM \"nyc_data.parquet\"\n",
    "    GROUP BY hour\n",
    "    ORDER BY hour\n",
    "\"\"\")\n",
    "\n",
    "print(percentiles_50)"
   ]
  },
  {
   "cell_type": "code",
   "execution_count": 27,
   "metadata": {},
   "outputs": [
    {
     "name": "stdout",
     "output_type": "stream",
     "text": [
      "┌─────────┬─────────────┐\n",
      "│  hour   │ median_fare │\n",
      "│ varchar │   double    │\n",
      "├─────────┼─────────────┤\n",
      "│ 00      │        9.14 │\n",
      "│ 01      │         8.9 │\n",
      "│ 02      │        8.93 │\n",
      "│ 03      │        9.25 │\n",
      "│ 04      │       10.11 │\n",
      "│ 05      │        9.92 │\n",
      "│ 06      │        9.63 │\n",
      "│ 07      │         9.3 │\n",
      "│ 08      │        8.99 │\n",
      "│ 09      │        8.81 │\n",
      "│ ·       │          ·  │\n",
      "│ ·       │          ·  │\n",
      "│ ·       │          ·  │\n",
      "│ 14      │        9.37 │\n",
      "│ 15      │        9.44 │\n",
      "│ 16      │        9.35 │\n",
      "│ 17      │        9.33 │\n",
      "│ 18      │         9.2 │\n",
      "│ 19      │        8.91 │\n",
      "│ 20      │        8.83 │\n",
      "│ 21      │        8.93 │\n",
      "│ 22      │        9.32 │\n",
      "│ 23      │        9.45 │\n",
      "├─────────┴─────────────┤\n",
      "│  24 rows (20 shown)   │\n",
      "└───────────────────────┘\n",
      "\n"
     ]
    }
   ],
   "source": [
    "percentiles_25 = duckdb.sql(f\"\"\"\n",
    "    SELECT \n",
    "        strftime(pickup_datetime, '%H') AS hour,\n",
    "        quantile(base_passenger_fare, 0.25) AS median_fare\n",
    "    FROM \"nyc_data.parquet\"\n",
    "    GROUP BY hour\n",
    "    ORDER BY hour\n",
    "\"\"\")\n",
    "\n",
    "print(percentiles_25)"
   ]
  },
  {
   "cell_type": "code",
   "execution_count": 28,
   "metadata": {},
   "outputs": [
    {
     "name": "stdout",
     "output_type": "stream",
     "text": [
      "┌─────────┬─────────────┐\n",
      "│  hour   │ median_fare │\n",
      "│ varchar │   double    │\n",
      "├─────────┼─────────────┤\n",
      "│ 00      │       24.79 │\n",
      "│ 01      │       23.76 │\n",
      "│ 02      │       24.09 │\n",
      "│ 03      │       25.67 │\n",
      "│ 04      │       30.09 │\n",
      "│ 05      │       31.03 │\n",
      "│ 06      │       29.01 │\n",
      "│ 07      │       26.07 │\n",
      "│ 08      │       24.78 │\n",
      "│ 09      │        23.4 │\n",
      "│ ·       │          ·  │\n",
      "│ ·       │          ·  │\n",
      "│ ·       │          ·  │\n",
      "│ 14      │       25.42 │\n",
      "│ 15      │       25.81 │\n",
      "│ 16      │       25.47 │\n",
      "│ 17      │        25.2 │\n",
      "│ 18      │       24.35 │\n",
      "│ 19      │       22.98 │\n",
      "│ 20      │       22.81 │\n",
      "│ 21      │       23.52 │\n",
      "│ 22      │       25.11 │\n",
      "│ 23      │        25.7 │\n",
      "├─────────┴─────────────┤\n",
      "│  24 rows (20 shown)   │\n",
      "└───────────────────────┘\n",
      "\n"
     ]
    }
   ],
   "source": [
    "percentiles_75 = duckdb.sql(f\"\"\"\n",
    "    SELECT \n",
    "        strftime(pickup_datetime, '%H') AS hour,\n",
    "        quantile(base_passenger_fare, 0.75) AS median_fare\n",
    "    FROM \"nyc_data.parquet\"\n",
    "    GROUP BY hour\n",
    "    ORDER BY hour\n",
    "\"\"\")\n",
    "\n",
    "print(percentiles_75)"
   ]
  },
  {
   "cell_type": "code",
   "execution_count": 29,
   "metadata": {},
   "outputs": [
    {
     "name": "stdout",
     "output_type": "stream",
     "text": [
      "┌─────────┬─────────────┐\n",
      "│  hour   │ median_fare │\n",
      "│ varchar │   double    │\n",
      "├─────────┼─────────────┤\n",
      "│ 00      │    -1969.59 │\n",
      "│ 01      │     -501.25 │\n",
      "│ 02      │     -163.28 │\n",
      "│ 03      │     -140.19 │\n",
      "│ 04      │     -229.47 │\n",
      "│ 05      │     -195.29 │\n",
      "│ 06      │     -276.43 │\n",
      "│ 07      │    -1371.49 │\n",
      "│ 08      │     -185.57 │\n",
      "│ 09      │     -510.82 │\n",
      "│ ·       │        ·    │\n",
      "│ ·       │        ·    │\n",
      "│ ·       │        ·    │\n",
      "│ 14      │     -170.22 │\n",
      "│ 15      │     -147.45 │\n",
      "│ 16      │     -272.93 │\n",
      "│ 17      │    -1513.59 │\n",
      "│ 18      │      -780.2 │\n",
      "│ 19      │     -325.28 │\n",
      "│ 20      │     -293.11 │\n",
      "│ 21      │     -237.05 │\n",
      "│ 22      │     -333.25 │\n",
      "│ 23      │     -165.03 │\n",
      "├─────────┴─────────────┤\n",
      "│  24 rows (20 shown)   │\n",
      "└───────────────────────┘\n",
      "\n"
     ]
    }
   ],
   "source": [
    "percentiles_0 = duckdb.sql(f\"\"\"\n",
    "    SELECT \n",
    "        strftime(pickup_datetime, '%H') AS hour,\n",
    "        quantile(base_passenger_fare, 0) AS median_fare\n",
    "    FROM \"nyc_data.parquet\"\n",
    "    GROUP BY hour\n",
    "    ORDER BY hour\n",
    "\"\"\")\n",
    "\n",
    "print(percentiles_0)"
   ]
  },
  {
   "cell_type": "code",
   "execution_count": 30,
   "metadata": {},
   "outputs": [
    {
     "name": "stdout",
     "output_type": "stream",
     "text": [
      "┌─────────┬─────────────┐\n",
      "│  hour   │ median_fare │\n",
      "│ varchar │   double    │\n",
      "├─────────┼─────────────┤\n",
      "│ 00      │     2419.64 │\n",
      "│ 01      │     4995.96 │\n",
      "│ 02      │     3078.21 │\n",
      "│ 03      │     2398.14 │\n",
      "│ 04      │      2698.7 │\n",
      "│ 05      │     2388.35 │\n",
      "│ 06      │     2678.81 │\n",
      "│ 07      │      3732.9 │\n",
      "│ 08      │     2693.98 │\n",
      "│ 09      │     2614.17 │\n",
      "│ ·       │        ·    │\n",
      "│ ·       │        ·    │\n",
      "│ ·       │        ·    │\n",
      "│ 14      │     2350.28 │\n",
      "│ 15      │      2710.5 │\n",
      "│ 16      │     2856.69 │\n",
      "│ 17      │      3356.7 │\n",
      "│ 18      │     2395.37 │\n",
      "│ 19      │     2506.04 │\n",
      "│ 20      │     3027.49 │\n",
      "│ 21      │     8157.74 │\n",
      "│ 22      │     2672.68 │\n",
      "│ 23      │     3014.76 │\n",
      "├─────────┴─────────────┤\n",
      "│  24 rows (20 shown)   │\n",
      "└───────────────────────┘\n",
      "\n"
     ]
    }
   ],
   "source": [
    "percentiles_100 = duckdb.sql(f\"\"\"\n",
    "    SELECT \n",
    "        strftime(pickup_datetime, '%H') AS hour,\n",
    "        quantile(base_passenger_fare, 1) AS median_fare\n",
    "    FROM \"nyc_data.parquet\"\n",
    "    GROUP BY hour\n",
    "    ORDER BY hour\n",
    "\"\"\")\n",
    "\n",
    "print(percentiles_100)"
   ]
  },
  {
   "cell_type": "code",
   "execution_count": 31,
   "metadata": {},
   "outputs": [
    {
     "data": {
      "image/png": "[encoded data removed]",
      "text/plain": [
       "<Figure size 1000x500 with 1 Axes>"
      ]
     },
     "metadata": {},
     "output_type": "display_data"
    }
   ],
   "source": [
    "avg_df = average.df()\n",
    "percentiles_50_df = percentiles_50.df()\n",
    "# percentiles_25_df = percentiles_25.df()\n",
    "# percentiles_75_df = percentiles_75.df()\n",
    "\n",
    "# Convert 'hour' to numeric for proper sorting\n",
    "avg_df[\"hour\"] = avg_df[\"hour\"].astype(int)\n",
    "percentiles_50_df[\"hour\"] = percentiles_50_df[\"hour\"].astype(int)\n",
    "# percentiles_25_df[\"hour\"] = percentiles_25_df[\"hour\"].astype(int)\n",
    "# percentiles_75_df[\"hour\"] = percentiles_75_df[\"hour\"].astype(int)\n",
    "\n",
    "# Plot data\n",
    "plt.figure(figsize=(10, 5))\n",
    "plt.plot(avg_df[\"hour\"], avg_df[\"avg_fare\"], marker=\"o\", linestyle=\"-\", color=\"b\", label=\"Avg Fare\")\n",
    "plt.plot(percentiles_50_df[\"hour\"], percentiles_50_df[\"median_fare\"], marker=\"o\", linestyle=\"--\", color=\"g\", label=\"Median Fare\")\n",
    "\n",
    "# Customize plot\n",
    "plt.xlabel(\"Hour of the Day\")\n",
    "plt.ylabel(\"Average Fare ($)\")\n",
    "plt.title(\"Average Fare Per Hour of the Day\")\n",
    "plt.xticks(range(0, 24))  # Show all hours from 0 to 23\n",
    "plt.grid(True)\n",
    "plt.legend()\n",
    "\n",
    "# Show plot\n",
    "plt.show()"
   ]
  }
 ],
 "metadata": {
  "kernelspec": {
   "display_name": "Python 3",
   "language": "python",
   "name": "python3"
  },
  "language_info": {
   "codemirror_mode": {
    "name": "ipython",
    "version": 3
   },
   "file_extension": ".py",
   "mimetype": "text/x-python",
   "name": "python",
   "nbconvert_exporter": "python",
   "pygments_lexer": "ipython3",
   "version": "3.10.11"
  }
 },
 "nbformat": 4,
 "nbformat_minor": 2
}
