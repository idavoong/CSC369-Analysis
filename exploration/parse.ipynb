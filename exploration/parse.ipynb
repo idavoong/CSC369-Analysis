{
 "cells": [
  {
   "cell_type": "code",
   "execution_count": 1,
   "metadata": {},
   "outputs": [],
   "source": [
    "import duckdb\n",
    "import glob\n",
    "\n",
    "file_path = \"C:/Users/Ida/.cache/kagglehub/datasets/jeffsinsel/nyc-fhvhv-data/versions/4\"\n",
    "\n",
    "#laptop\n",
    "# file_path = \"C:/Users/idavo/.cache/kagglehub/datasets/jeffsinsel/nyc-fhvhv-data/versions/4\""
   ]
  },
  {
   "cell_type": "code",
   "execution_count": 2,
   "metadata": {},
   "outputs": [],
   "source": [
    "selected_columns = [\"pickup_datetime\", \"dropoff_datetime\",\"trip_miles\", \"trip_time\", \"base_passenger_fare\", \"congestion_surcharge\", \"hvfhs_license_num\", \"tolls\", \"sales_tax\", \"tips\", \"shared_match_flag\"]\n",
    "parquet_files = glob.glob(f\"{file_path}/*.parquet\")\n",
    "output_file = \"nyc_data.parquet\"\n",
    "\n",
    "con = duckdb.connect()\n",
    "con.execute(f\"CREATE TABLE merged AS SELECT {', '.join(selected_columns)} FROM parquet_scan('{file_path}/*.parquet') WHERE 1=0\")\n",
    "\n",
    "for file in parquet_files:\n",
    "    con.execute(f\"\"\"\n",
    "        INSERT INTO merged\n",
    "        SELECT {', '.join(selected_columns)}\n",
    "        FROM parquet_scan('{file}')\n",
    "        WHERE pickup_datetime < dropoff_datetime AND congestion_surcharge IS NOT NULL\n",
    "    \"\"\")\n",
    "\n",
    "con.execute(f\"COPY merged TO '{output_file}' (FORMAT 'parquet')\")\n",
    "con.close()"
   ]
  },
  {
   "cell_type": "code",
   "execution_count": 3,
   "metadata": {},
   "outputs": [
    {
     "name": "stdout",
     "output_type": "stream",
     "text": [
      "┌─────────────────────┬─────────────────────┬────────────┬───────────┬─────────────────────┬──────────────────────┬───────────────────┬────────┬───────────┬────────┬───────────────────┐\n",
      "│   pickup_datetime   │  dropoff_datetime   │ trip_miles │ trip_time │ base_passenger_fare │ congestion_surcharge │ hvfhs_license_num │ tolls  │ sales_tax │  tips  │ shared_match_flag │\n",
      "│      timestamp      │      timestamp      │   double   │   int64   │       double        │        double        │      varchar      │ double │  double   │ double │      varchar      │\n",
      "├─────────────────────┼─────────────────────┼────────────┼───────────┼─────────────────────┼──────────────────────┼───────────────────┼────────┼───────────┼────────┼───────────────────┤\n",
      "│ 2019-02-01 00:05:18 │ 2019-02-01 00:14:57 │       2.45 │       579 │                9.35 │                  0.0 │ HV0003            │    0.0 │      0.83 │    0.0 │ N                 │\n",
      "│ 2019-02-01 00:41:29 │ 2019-02-01 00:49:39 │       1.71 │       490 │                7.91 │                  0.0 │ HV0003            │    0.0 │       0.7 │    2.0 │ N                 │\n",
      "│ 2019-02-01 00:51:34 │ 2019-02-01 01:28:29 │       5.01 │      2159 │               44.96 │                  0.0 │ HV0005            │    0.0 │      3.99 │    0.0 │ Y                 │\n",
      "│ 2019-02-01 00:03:51 │ 2019-02-01 00:07:16 │       0.34 │       179 │                7.19 │                  0.0 │ HV0005            │    0.0 │      0.64 │    3.0 │ Y                 │\n",
      "│ 2019-02-01 00:09:44 │ 2019-02-01 00:39:56 │       6.84 │      1799 │               24.25 │                  0.0 │ HV0005            │   0.11 │      2.16 │    4.0 │ Y                 │\n",
      "│ 2019-02-01 00:59:55 │ 2019-02-01 01:06:28 │       1.11 │       359 │                5.75 │                  0.0 │ HV0005            │    0.0 │      0.51 │    0.0 │ Y                 │\n",
      "│ 2019-02-01 00:12:06 │ 2019-02-01 00:42:13 │       4.53 │      1799 │               16.39 │                  0.0 │ HV0005            │    0.0 │      1.45 │    0.0 │ Y                 │\n",
      "│ 2019-02-01 00:45:35 │ 2019-02-01 01:14:56 │      11.24 │      1739 │               29.77 │                  0.0 │ HV0005            │   0.72 │      2.71 │    0.0 │ Y                 │\n",
      "│ 2019-02-01 00:10:48 │ 2019-02-01 00:20:23 │       1.59 │       574 │                6.99 │                  0.0 │ HV0003            │    0.0 │      0.62 │    0.0 │ N                 │\n",
      "│ 2019-02-01 00:32:32 │ 2019-02-01 00:40:25 │        1.9 │       474 │                7.05 │                  0.0 │ HV0003            │    0.0 │      0.63 │    0.0 │ N                 │\n",
      "│ 2019-02-01 00:59:54 │ 2019-02-01 01:09:31 │       2.74 │       576 │               10.36 │                  0.0 │ HV0003            │    0.0 │      0.92 │    0.0 │ N                 │\n",
      "│ 2019-02-01 00:01:11 │ 2019-02-01 00:21:35 │       7.91 │      1225 │                9.48 │                  0.0 │ HV0003            │    0.0 │      2.22 │    0.0 │ N                 │\n",
      "│ 2019-02-01 00:36:22 │ 2019-02-01 00:55:30 │       7.21 │      1148 │               20.69 │                  0.0 │ HV0003            │   5.76 │      2.35 │    0.0 │ N                 │\n",
      "│ 2019-02-01 00:57:50 │ 2019-02-01 01:05:08 │       2.16 │       438 │                 8.5 │                  0.0 │ HV0003            │    0.0 │      0.75 │    0.0 │ N                 │\n",
      "│ 2019-02-01 00:05:24 │ 2019-02-01 00:17:13 │       2.92 │       710 │               11.51 │                  0.0 │ HV0003            │    0.0 │      1.02 │    0.0 │ N                 │\n",
      "│ 2019-02-01 00:27:38 │ 2019-02-01 00:32:36 │       1.09 │       298 │                3.92 │                  0.0 │ HV0003            │    0.0 │      0.35 │    0.0 │ N                 │\n",
      "│ 2019-02-01 00:52:50 │ 2019-02-01 00:56:02 │       0.37 │       192 │                7.81 │                  0.0 │ HV0003            │    0.0 │      0.69 │    0.0 │ N                 │\n",
      "│ 2019-02-01 00:30:24 │ 2019-02-01 00:59:08 │       8.09 │      1724 │               26.34 │                  0.0 │ HV0003            │   5.76 │      2.85 │    0.0 │ N                 │\n",
      "│ 2019-02-01 00:35:06 │ 2019-02-01 00:44:27 │        2.4 │       561 │               22.16 │                  0.0 │ HV0003            │    0.0 │      1.97 │    0.0 │ N                 │\n",
      "│ 2019-02-01 00:12:54 │ 2019-02-01 00:22:32 │       1.17 │       577 │                5.85 │                  0.0 │ HV0003            │    0.0 │      0.52 │    5.0 │ N                 │\n",
      "├─────────────────────┴─────────────────────┴────────────┴───────────┴─────────────────────┴──────────────────────┴───────────────────┴────────┴───────────┴────────┴───────────────────┤\n",
      "│ 20 rows                                                                                                                                                                    11 columns │\n",
      "└───────────────────────────────────────────────────────────────────────────────────────────────────────────────────────────────────────────────────────────────────────────────────────┘\n",
      "\n"
     ]
    }
   ],
   "source": [
    "test = duckdb.sql(f\"\"\"\n",
    "    SELECT * FROM 'nyc_data.parquet'\n",
    "    LIMIT 20\n",
    "\"\"\")\n",
    "\n",
    "print(test)"
   ]
  }
 ],
 "metadata": {
  "kernelspec": {
   "display_name": "Python 3",
   "language": "python",
   "name": "python3"
  },
  "language_info": {
   "codemirror_mode": {
    "name": "ipython",
    "version": 3
   },
   "file_extension": ".py",
   "mimetype": "text/x-python",
   "name": "python",
   "nbconvert_exporter": "python",
   "pygments_lexer": "ipython3",
   "version": "3.11.5"
  }
 },
 "nbformat": 4,
 "nbformat_minor": 2
}
