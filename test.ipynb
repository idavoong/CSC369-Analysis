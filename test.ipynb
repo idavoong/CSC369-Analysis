{
 "cells": [
  {
   "cell_type": "code",
   "execution_count": 1,
   "metadata": {},
   "outputs": [],
   "source": [
    "import duckdb\n",
    "\n",
    "file_path = \"C:/Users/Ida/.cache/kagglehub/datasets/jeffsinsel/nyc-fhvhv-data/versions/4\""
   ]
  },
  {
   "cell_type": "code",
   "execution_count": 8,
   "metadata": {},
   "outputs": [
    {
     "name": "stdout",
     "output_type": "stream",
     "text": [
      "┌───────────────────┬──────────────────────────┐\n",
      "│ hvfhs_license_num │ count(hvfhs_license_num) │\n",
      "│      varchar      │          int64           │\n",
      "├───────────────────┼──────────────────────────┤\n",
      "│ HV0004            │                 13884957 │\n",
      "│ HV0002            │                  6388934 │\n",
      "│ HV0005            │                191014968 │\n",
      "│ HV0003            │                533998164 │\n",
      "└───────────────────┴──────────────────────────┘\n",
      "\n"
     ]
    }
   ],
   "source": [
    "query = duckdb.sql(f\"\"\"\n",
    "    SELECT hvfhs_license_num, COUNT(hvfhs_license_num) FROM '{file_path}/*.parquet'\n",
    "    GROUP BY hvfhs_license_num\n",
    "\"\"\")\n",
    "\n",
    "print(query)"
   ]
  }
 ],
 "metadata": {
  "kernelspec": {
   "display_name": "Python 3",
   "language": "python",
   "name": "python3"
  },
  "language_info": {
   "codemirror_mode": {
    "name": "ipython",
    "version": 3
   },
   "file_extension": ".py",
   "mimetype": "text/x-python",
   "name": "python",
   "nbconvert_exporter": "python",
   "pygments_lexer": "ipython3",
   "version": "3.11.5"
  }
 },
 "nbformat": 4,
 "nbformat_minor": 2
}
