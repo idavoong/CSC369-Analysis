{
 "cells": [
  {
   "cell_type": "code",
   "execution_count": 1,
   "metadata": {},
   "outputs": [],
   "source": [
    "import duckdb\n",
    "\n",
    "file_path = \"C:/Users/Ida/.cache/kagglehub/datasets/jeffsinsel/nyc-fhvhv-data/versions/4\""
   ]
  },
  {
   "cell_type": "code",
   "execution_count": 8,
   "metadata": {},
   "outputs": [
    {
     "name": "stdout",
     "output_type": "stream",
     "text": [
      "┌───────────────────┬──────────────────────────┐\n",
      "│ hvfhs_license_num │ count(hvfhs_license_num) │\n",
      "│      varchar      │          int64           │\n",
      "├───────────────────┼──────────────────────────┤\n",
      "│ HV0004            │                 13884957 │\n",
      "│ HV0002            │                  6388934 │\n",
      "│ HV0005            │                191014968 │\n",
      "│ HV0003            │                533998164 │\n",
      "└───────────────────┴──────────────────────────┘\n",
      "\n"
     ]
    }
   ],
   "source": [
    "query = duckdb.sql(f\"\"\"\n",
    "    SELECT hvfhs_license_num, COUNT(hvfhs_license_num) FROM '{file_path}/*.parquet'\n",
    "    GROUP BY hvfhs_license_num\n",
    "\"\"\")\n",
    "\n",
    "print(query)"
   ]
  },
  {
   "cell_type": "code",
   "execution_count": 4,
   "metadata": {},
   "outputs": [
    {
     "name": "stdout",
     "output_type": "stream",
     "text": [
      "┌───────────────────┬──────────────────────┬──────────────────────┬─────────────────────┬─────────────────────┬─────────────────────┬─────────────────────┬──────────────┬──────────────┬────────────┬───────────┬─────────────────────┬────────┬────────┬───────────┬──────────────────────┬─────────────┬────────┬────────────┬─────────────────────┬───────────────────┬────────────────────┬──────────────────┬────────────────┐\n",
      "│ hvfhs_license_num │ dispatching_base_num │ originating_base_num │  request_datetime   │  on_scene_datetime  │   pickup_datetime   │  dropoff_datetime   │ PULocationID │ DOLocationID │ trip_miles │ trip_time │ base_passenger_fare │ tolls  │  bcf   │ sales_tax │ congestion_surcharge │ airport_fee │  tips  │ driver_pay │ shared_request_flag │ shared_match_flag │ access_a_ride_flag │ wav_request_flag │ wav_match_flag │\n",
      "│      varchar      │       varchar        │       varchar        │      timestamp      │      timestamp      │      timestamp      │      timestamp      │    int64     │    int64     │   double   │   int64   │       double        │ double │ double │  double   │        double        │    int32    │ double │   double   │       varchar       │      varchar      │      varchar       │     varchar      │     int32      │\n",
      "├───────────────────┼──────────────────────┼──────────────────────┼─────────────────────┼─────────────────────┼─────────────────────┼─────────────────────┼──────────────┼──────────────┼────────────┼───────────┼─────────────────────┼────────┼────────┼───────────┼──────────────────────┼─────────────┼────────┼────────────┼─────────────────────┼───────────────────┼────────────────────┼──────────────────┼────────────────┤\n",
      "│ HV0003            │ B02867               │ B02867               │ 2019-02-01 00:01:26 │ 2019-02-01 00:02:55 │ 2019-02-01 00:05:18 │ 2019-02-01 00:14:57 │          245 │          251 │       2.45 │       579 │                9.35 │    0.0 │   0.23 │      0.83 │                  0.0 │        NULL │    0.0 │       7.48 │ Y                   │ N                 │ N                  │ N                │           NULL │\n",
      "│ HV0003            │ B02879               │ B02879               │ 2019-02-01 00:26:08 │ 2019-02-01 00:41:29 │ 2019-02-01 00:41:29 │ 2019-02-01 00:49:39 │          216 │          197 │       1.71 │       490 │                7.91 │    0.0 │    0.2 │       0.7 │                  0.0 │        NULL │    2.0 │       7.93 │ N                   │ N                 │ N                  │ N                │           NULL │\n",
      "│ HV0005            │ B02510               │ NULL                 │ 2019-02-01 00:48:58 │ NULL                │ 2019-02-01 00:51:34 │ 2019-02-01 01:28:29 │          261 │          234 │       5.01 │      2159 │               44.96 │    0.0 │   1.12 │      3.99 │                  0.0 │        NULL │    0.0 │      35.97 │ N                   │ Y                 │ N                  │ N                │           NULL │\n",
      "│ HV0005            │ B02510               │ NULL                 │ 2019-02-01 00:02:15 │ NULL                │ 2019-02-01 00:03:51 │ 2019-02-01 00:07:16 │           87 │           87 │       0.34 │       179 │                7.19 │    0.0 │   0.18 │      0.64 │                  0.0 │        NULL │    3.0 │       5.39 │ N                   │ Y                 │ N                  │ N                │           NULL │\n",
      "│ HV0005            │ B02510               │ NULL                 │ 2019-02-01 00:06:17 │ NULL                │ 2019-02-01 00:09:44 │ 2019-02-01 00:39:56 │           87 │          198 │       6.84 │      1799 │               24.25 │   0.11 │   0.61 │      2.16 │                  0.0 │        NULL │    4.0 │      17.07 │ N                   │ Y                 │ N                  │ N                │           NULL │\n",
      "└───────────────────┴──────────────────────┴──────────────────────┴─────────────────────┴─────────────────────┴─────────────────────┴─────────────────────┴──────────────┴──────────────┴────────────┴───────────┴─────────────────────┴────────┴────────┴───────────┴──────────────────────┴─────────────┴────────┴────────────┴─────────────────────┴───────────────────┴────────────────────┴──────────────────┴────────────────┘\n",
      "\n"
     ]
    }
   ],
   "source": [
    "test = duckdb.sql(f\"\"\"\n",
    "    SELECT * FROM '{file_path}/*.parquet'\n",
    "    LIMIT 5\n",
    "\"\"\")\n",
    "\n",
    "print(test)"
   ]
  }
 ],
 "metadata": {
  "kernelspec": {
   "display_name": "Python 3",
   "language": "python",
   "name": "python3"
  },
  "language_info": {
   "codemirror_mode": {
    "name": "ipython",
    "version": 3
   },
   "file_extension": ".py",
   "mimetype": "text/x-python",
   "name": "python",
   "nbconvert_exporter": "python",
   "pygments_lexer": "ipython3",
   "version": "3.10.11"
  }
 },
 "nbformat": 4,
 "nbformat_minor": 2
}
