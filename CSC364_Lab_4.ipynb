{
  "nbformat": 4,
  "nbformat_minor": 0,
  "metadata": {
    "colab": {
      "provenance": [],
      "gpuType": "T4",
      "authorship_tag": "ABX9TyPScyWMturOC+07Ym7eWh42",
      "include_colab_link": true
    },
    "kernelspec": {
      "name": "python3",
      "display_name": "Python 3"
    },
    "language_info": {
      "name": "python"
    },
    "accelerator": "GPU"
  },
  "cells": [
    {
      "cell_type": "markdown",
      "metadata": {
        "id": "view-in-github",
        "colab_type": "text"
      },
      "source": [
        "<a href=\"https://colab.research.google.com/github/idavoong/CSC369-Analysis/blob/main/CSC364_Lab_4.ipynb\" target=\"_parent\"><img src=\"https://colab.research.google.com/assets/colab-badge.svg\" alt=\"Open In Colab\"/></a>"
      ]
    },
    {
      "cell_type": "code",
      "execution_count": 2,
      "metadata": {
        "colab": {
          "base_uri": "https://localhost:8080/"
        },
        "id": "6uCjtkqTG56U",
        "outputId": "9e1bb2de-b744-452f-abd3-ccccf11dbbdd"
      },
      "outputs": [
        {
          "output_type": "stream",
          "name": "stdout",
          "text": [
            "Result of element-wise multiplication: [ 2 12 30 56]\n"
          ]
        }
      ],
      "source": [
        "# Part 3, Task 1\n",
        "\n",
        "import cupy as cp\n",
        "\n",
        "# Define two vectors\n",
        "x = cp.array([2, 4, 6, 8])\n",
        "y = cp.array([1, 3, 5, 7])\n",
        "\n",
        "# Perform element-wise multiplication (fill this part)\n",
        "z = x * y\n",
        "\n",
        "# Display the result\n",
        "print(\"Result of element-wise multiplication:\", cp.asnumpy(z))"
      ]
    },
    {
      "cell_type": "code",
      "source": [
        "# Part 3, Task 2\n",
        "\n",
        "import cupy as cp\n",
        "\n",
        "x = cp.array([2, 4, 6, 8])\n",
        "y = cp.array([1, 3, 5, 7])\n",
        "\n",
        "z = cp.dot(x, y)\n",
        "\n",
        "print(\"Result of dot product:\", cp.asnumpy(z))"
      ],
      "metadata": {
        "colab": {
          "base_uri": "https://localhost:8080/"
        },
        "id": "E9Ziq_GDKCcE",
        "outputId": "68c8835f-988e-4e3c-e8b9-a91b43e77793"
      },
      "execution_count": 3,
      "outputs": [
        {
          "output_type": "stream",
          "name": "stdout",
          "text": [
            "Result of dot product: 100\n"
          ]
        }
      ]
    },
    {
      "cell_type": "code",
      "source": [
        "# Part 3, Task 3\n",
        "\n",
        "import cupy as cp\n",
        "\n",
        "def squares(vector):\n",
        "  return vector * vector\n",
        "\n",
        "example = cp.array([1, 2, 3, 4, 5])\n",
        "result = squares(example)\n",
        "print(result)"
      ],
      "metadata": {
        "colab": {
          "base_uri": "https://localhost:8080/"
        },
        "id": "H2j4G00jKKAj",
        "outputId": "5061bf42-d0eb-4356-d3f4-6910ee3b910b"
      },
      "execution_count": 4,
      "outputs": [
        {
          "output_type": "stream",
          "name": "stdout",
          "text": [
            "[ 1  4  9 16 25]\n"
          ]
        }
      ]
    },
    {
      "cell_type": "code",
      "source": [
        "# Task 6, Part A\n",
        "\n",
        "import cupy as cp\n",
        "\n",
        "# Define the custom CUDA kernel\n",
        "custom_kernel = cp.RawKernel(r'''\n",
        "extern \"C\" __global__\n",
        "void elementwise_operation(const float *x, float *y, float *z, int N) {\n",
        "    int idx = blockIdx.x * blockDim.x + threadIdx.x;\n",
        "    if (idx < N) {\n",
        "        y[idx] = abs(x[idx] - z[idx]);\n",
        "    }\n",
        "}\n",
        "''', 'elementwise_operation')\n",
        "\n",
        "# Input and output arrays\n",
        "N = 10**6\n",
        "x = cp.arange(1, N+1, dtype=cp.float32)\n",
        "y = cp.zeros_like(x)\n",
        "z = cp.arange(1, N+1, dtype=cp.float32)\n",
        "\n",
        "# Launch the custom kernel\n",
        "threads_per_block = 256\n",
        "blocks_per_grid = (N + threads_per_block - 1) // threads_per_block\n",
        "custom_kernel((blocks_per_grid,), (threads_per_block,), (x, y, z, N))\n",
        "\n",
        "# Verify the result\n",
        "print(\"First 10 results:\", cp.asnumpy(z[:10]))"
      ],
      "metadata": {
        "colab": {
          "base_uri": "https://localhost:8080/"
        },
        "id": "bHMakJDqPub6",
        "outputId": "7c8acf82-e179-41c0-9ce1-832973e12a92"
      },
      "execution_count": 5,
      "outputs": [
        {
          "output_type": "stream",
          "name": "stdout",
          "text": [
            "First 10 results: [ 1.  2.  3.  4.  5.  6.  7.  8.  9. 10.]\n"
          ]
        }
      ]
    },
    {
      "cell_type": "code",
      "source": [
        "# Task 6, Part B\n",
        "\n",
        "import cupy as cp\n",
        "\n",
        "custom_kernel = cp.RawKernel(r'''\n",
        "extern \"C\" __global__\n",
        "void dot_product(const float *x, float *y, float *z, int N) {\n",
        "    int idx = blockIdx.x * blockDim.x + threadIdx.x;\n",
        "\n",
        "    float temp = 0.0;\n",
        "    while (idx < N) {\n",
        "        temp += x[idx] * z[idx];\n",
        "        idx += gridDim.x * blockDim.x;\n",
        "    }\n",
        "\n",
        "    y[blockIdx.x * blockDim.x + threadIdx.x] = temp;\n",
        "}\n",
        "''', 'dot_product')\n",
        "\n",
        "N = 4\n",
        "x = cp.array([2, 4, 6, 8], dtype=cp.float32)\n",
        "z = cp.array([1, 3, 5, 7], dtype=cp.float32)\n",
        "y = cp.zeros_like(x)\n",
        "\n",
        "threads_per_block = 256\n",
        "blocks_per_grid = (N + threads_per_block - 1) // threads_per_block\n",
        "custom_kernel((blocks_per_grid,), (threads_per_block,), (x, y, z, N))\n",
        "\n",
        "print(\"Dot product:\", cp.sum(y))"
      ],
      "metadata": {
        "colab": {
          "base_uri": "https://localhost:8080/"
        },
        "id": "dFcBXOM2bTGl",
        "outputId": "2dd770e8-13fe-4e9a-e1e4-a147477c70ce"
      },
      "execution_count": 7,
      "outputs": [
        {
          "output_type": "stream",
          "name": "stdout",
          "text": [
            "Dot product: 100.0\n"
          ]
        }
      ]
    },
    {
      "cell_type": "code",
      "source": [
        "# Task 6, Part C\n",
        "\n",
        "import cupy as cp\n",
        "\n",
        "custom_kernel = cp.RawKernel(r'''\n",
        "extern \"C\" __global__\n",
        "void matmul(const float *A, const float *B, float *C, int M, int K, int N) {\n",
        "    int row = blockIdx.y * blockDim.y + threadIdx.y;\n",
        "    int col = blockIdx.x * blockDim.x + threadIdx.x;\n",
        "\n",
        "    if (row < M && col < N) {\n",
        "        float sum = 0.0;\n",
        "        for (int k = 0; k < K; k++) {\n",
        "            sum += A[row * K + k] * B[k * N + col];\n",
        "        }\n",
        "        C[row * N + col] = sum;\n",
        "    }\n",
        "}\n",
        "''', 'matmul')\n",
        "\n",
        "M, K, N = 4, 3, 2\n",
        "\n",
        "A = cp.array([[1, 2, 3], [4, 5, 6], [7, 8, 9], [10, 11, 12]], dtype=cp.float32)\n",
        "B = cp.array([[1, 4], [2, 5], [3, 6]], dtype=cp.float32)\n",
        "C = cp.zeros((M, N), dtype=cp.float32)\n",
        "\n",
        "threads_per_block = (16, 16)\n",
        "blocks_per_grid = ((N + threads_per_block[0] - 1) // threads_per_block[0],\n",
        "                   (M + threads_per_block[1] - 1) // threads_per_block[1])\n",
        "\n",
        "blocks_per_grid = (int(blocks_per_grid[0]), int(blocks_per_grid[1]))\n",
        "threads_per_block = (int(threads_per_block[0]), int(threads_per_block[1]))\n",
        "\n",
        "custom_kernel(blocks_per_grid, threads_per_block, (A, B, C, M, K, N))\n",
        "\n",
        "print(\"Matrix C:\\n\", cp.asnumpy(C))"
      ],
      "metadata": {
        "colab": {
          "base_uri": "https://localhost:8080/"
        },
        "id": "IxlsYGCabgli",
        "outputId": "d7c63da6-5070-4ae9-f377-456582641ca7"
      },
      "execution_count": 16,
      "outputs": [
        {
          "output_type": "stream",
          "name": "stdout",
          "text": [
            "Matrix C:\n",
            " [[ 14.  32.]\n",
            " [ 32.  77.]\n",
            " [ 50. 122.]\n",
            " [ 68. 167.]]\n"
          ]
        }
      ]
    },
    {
      "cell_type": "code",
      "source": [
        "# Part 7\n",
        "\n",
        "import cupy as cp\n",
        "import time\n",
        "\n",
        "# Define a large input array on CPU\n",
        "N = 20**7  # Size of the array\n",
        "x = cp.array(N, dtype=cp.float32)\n",
        "\n",
        "# Measure the time taken to square each element\n",
        "start_time = time.time()\n",
        "y = x**2\n",
        "cpu_time = time.time() - start_time\n",
        "\n",
        "print(f\"CPU Time: {cpu_time:.6f} seconds\")"
      ],
      "metadata": {
        "colab": {
          "base_uri": "https://localhost:8080/"
        },
        "id": "yoUd36FechPL",
        "outputId": "73c8c2b9-6fd7-49b1-b747-a5f7328b8cb8"
      },
      "execution_count": 17,
      "outputs": [
        {
          "output_type": "stream",
          "name": "stdout",
          "text": [
            "CPU Time: 0.000712 seconds\n"
          ]
        }
      ]
    },
    {
      "cell_type": "markdown",
      "source": [
        "Part 7 Response\n",
        "\n",
        "Describe how and why the amount of time it takes to complete the task changes.\n",
        "\n",
        "The amount of time it takes to complete the task changes because GPUs have thousands of cores and a higher memory bandwidth, which makes it suitable for calculating repetitive operations."
      ],
      "metadata": {
        "id": "vx24deJSyvOm"
      }
    }
  ]
}